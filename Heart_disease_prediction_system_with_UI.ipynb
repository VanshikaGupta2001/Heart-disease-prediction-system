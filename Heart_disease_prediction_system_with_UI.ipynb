{
  "nbformat": 4,
  "nbformat_minor": 0,
  "metadata": {
    "colab": {
      "name": "Suvidhi Banthia 200968040 ml mini project phase 2 ui.ipynb",
      "provenance": [],
      "collapsed_sections": []
    },
    "kernelspec": {
      "name": "python3",
      "display_name": "Python 3"
    },
    "language_info": {
      "name": "python"
    }
  },
  "cells": [
    {
      "cell_type": "markdown",
      "source": [
        "#Heart Disease Dataset\n",
        "####-by Suvidhi Banthia 200968040"
      ],
      "metadata": {
        "id": "zMR5lbA4YFKi"
      }
    },
    {
      "cell_type": "markdown",
      "source": [
        "##1. Introduction to the dataset"
      ],
      "metadata": {
        "id": "eQJtZUKeYGX0"
      }
    },
    {
      "cell_type": "markdown",
      "source": [
        "###1.1 Objective"
      ],
      "metadata": {
        "id": "IoZTa64VA6jJ"
      }
    },
    {
      "cell_type": "markdown",
      "source": [
        "The main goal of this research is to find the best accuracy for the prediction of heart disease by using major risk factors based on different classifier algorithms."
      ],
      "metadata": {
        "id": "q6NNXg8-BCJT"
      }
    },
    {
      "cell_type": "markdown",
      "source": [
        "###1.2 Metadata"
      ],
      "metadata": {
        "id": "K8PrfEQmYJ46"
      }
    },
    {
      "cell_type": "markdown",
      "source": [
        "```\n",
        "1.   **Usage Information**\n",
        "  *   LICENSE - Unknown\n",
        "  *   VISIBILITY - Public\n",
        "\n",
        "2.   **Owner** - David Lapp\n",
        "\n",
        "3.   **SOURCES** - UCI Machine Learning\n",
        "```"
      ],
      "metadata": {
        "id": "QRsALysjYM2b"
      }
    },
    {
      "cell_type": "markdown",
      "source": [
        "###1.3 About the dataset"
      ],
      "metadata": {
        "id": "0HT8v42EYRhc"
      }
    },
    {
      "cell_type": "markdown",
      "source": [
        "```\n",
        "1.   **Data set date range** -  1988 onwards\n",
        "2.   Consists of **4 databases** -\n",
        "\n",
        "  *   Cleveland\n",
        "  *   Hungary\n",
        "  *   Switzerland\n",
        "  *   Long Beach V\n",
        "\n",
        "3.   No. of **Attributes** - \n",
        "\n",
        "  *   Available - 76\n",
        "  *   In use - 14\n",
        "\n",
        "4. **Target field** - \n",
        "\n",
        "  *   indicates presence of heart disease in the patient\n",
        "  *   integer valued (0 = no disease; 1 = disease)\n",
        "  ```"
      ],
      "metadata": {
        "id": "ah3X3XhGYU1z"
      }
    },
    {
      "cell_type": "markdown",
      "source": [
        "###1.4 Attribute information"
      ],
      "metadata": {
        "id": "My2SyC-mYZSL"
      }
    },
    {
      "cell_type": "markdown",
      "source": [
        "```\n",
        "1. age [age]\n",
        "2. sex (1 - male, 0 - female) [sex]\n",
        "3. chest pain type (4 values) [cp]\n",
        "4. resting blood pressure [trestbps]\n",
        "5. serum cholestoral in mg/dl [chol]\n",
        "6. fasting blood sugar > 120 mg/dl [fbs]\n",
        "7. resting electrocardiographic results (values 0,1,2) [restecg]\n",
        "8. maximum heart rate achieved [thalach]\n",
        "9. exercise induced angina [exang]\n",
        "10. ST depression induced by exercise relative to rest(‘ST’ relates to    positions on the ECG plot) [oldpeak]\n",
        "11. the slope of the peak exercise ST segment [slope]\n",
        "12. number of major vessels (0-3) colored by flourosopy [ca]\n",
        "13. A blood disorder called thalassemia: 1 = fixed defect; 2 = normal; 3 = reversable defect [thal]\n",
        "14. Heart disease (1 = no, 0= yes) [target]\n",
        "```"
      ],
      "metadata": {
        "id": "jBF0DsqRYcIT"
      }
    },
    {
      "cell_type": "markdown",
      "source": [
        "##2. Data Analysis"
      ],
      "metadata": {
        "id": "inZo-seaYi0_"
      }
    },
    {
      "cell_type": "markdown",
      "source": [
        "###2.1 Reading dataset and basic stats"
      ],
      "metadata": {
        "id": "mZ5AjA0IBXLd"
      }
    },
    {
      "cell_type": "code",
      "source": [
        "#importing needed libraries for EDA\n",
        "\n",
        "#Loading and Data manipulation\n",
        "import pandas as pd\n",
        "import numpy as np\n",
        "\n",
        "#for Visualization\n",
        "import matplotlib.pyplot as plt\n",
        "import seaborn as sns"
      ],
      "metadata": {
        "id": "4BsKAraHXKOr"
      },
      "execution_count": 1,
      "outputs": []
    },
    {
      "cell_type": "code",
      "execution_count": 2,
      "metadata": {
        "colab": {
          "base_uri": "https://localhost:8080/",
          "height": 206
        },
        "id": "kOruItwdWBec",
        "outputId": "2dcf3e20-e6d7-4db0-ade6-746bdbfa36d3"
      },
      "outputs": [
        {
          "output_type": "execute_result",
          "data": {
            "text/plain": [
              "   age  sex  cp  trestbps  chol  fbs  restecg  thalach  exang  oldpeak  slope  \\\n",
              "0   52    1   0       125   212    0        1      168      0      1.0      2   \n",
              "1   53    1   0       140   203    1        0      155      1      3.1      0   \n",
              "2   70    1   0       145   174    0        1      125      1      2.6      0   \n",
              "3   61    1   0       148   203    0        1      161      0      0.0      2   \n",
              "4   62    0   0       138   294    1        1      106      0      1.9      1   \n",
              "\n",
              "   ca  thal  target  \n",
              "0   2     3       0  \n",
              "1   0     3       0  \n",
              "2   0     3       0  \n",
              "3   1     3       0  \n",
              "4   3     2       0  "
            ],
            "text/html": [
              "\n",
              "  <div id=\"df-7331d2ae-cd17-46fb-b1ec-4d7ec7459ad5\">\n",
              "    <div class=\"colab-df-container\">\n",
              "      <div>\n",
              "<style scoped>\n",
              "    .dataframe tbody tr th:only-of-type {\n",
              "        vertical-align: middle;\n",
              "    }\n",
              "\n",
              "    .dataframe tbody tr th {\n",
              "        vertical-align: top;\n",
              "    }\n",
              "\n",
              "    .dataframe thead th {\n",
              "        text-align: right;\n",
              "    }\n",
              "</style>\n",
              "<table border=\"1\" class=\"dataframe\">\n",
              "  <thead>\n",
              "    <tr style=\"text-align: right;\">\n",
              "      <th></th>\n",
              "      <th>age</th>\n",
              "      <th>sex</th>\n",
              "      <th>cp</th>\n",
              "      <th>trestbps</th>\n",
              "      <th>chol</th>\n",
              "      <th>fbs</th>\n",
              "      <th>restecg</th>\n",
              "      <th>thalach</th>\n",
              "      <th>exang</th>\n",
              "      <th>oldpeak</th>\n",
              "      <th>slope</th>\n",
              "      <th>ca</th>\n",
              "      <th>thal</th>\n",
              "      <th>target</th>\n",
              "    </tr>\n",
              "  </thead>\n",
              "  <tbody>\n",
              "    <tr>\n",
              "      <th>0</th>\n",
              "      <td>52</td>\n",
              "      <td>1</td>\n",
              "      <td>0</td>\n",
              "      <td>125</td>\n",
              "      <td>212</td>\n",
              "      <td>0</td>\n",
              "      <td>1</td>\n",
              "      <td>168</td>\n",
              "      <td>0</td>\n",
              "      <td>1.0</td>\n",
              "      <td>2</td>\n",
              "      <td>2</td>\n",
              "      <td>3</td>\n",
              "      <td>0</td>\n",
              "    </tr>\n",
              "    <tr>\n",
              "      <th>1</th>\n",
              "      <td>53</td>\n",
              "      <td>1</td>\n",
              "      <td>0</td>\n",
              "      <td>140</td>\n",
              "      <td>203</td>\n",
              "      <td>1</td>\n",
              "      <td>0</td>\n",
              "      <td>155</td>\n",
              "      <td>1</td>\n",
              "      <td>3.1</td>\n",
              "      <td>0</td>\n",
              "      <td>0</td>\n",
              "      <td>3</td>\n",
              "      <td>0</td>\n",
              "    </tr>\n",
              "    <tr>\n",
              "      <th>2</th>\n",
              "      <td>70</td>\n",
              "      <td>1</td>\n",
              "      <td>0</td>\n",
              "      <td>145</td>\n",
              "      <td>174</td>\n",
              "      <td>0</td>\n",
              "      <td>1</td>\n",
              "      <td>125</td>\n",
              "      <td>1</td>\n",
              "      <td>2.6</td>\n",
              "      <td>0</td>\n",
              "      <td>0</td>\n",
              "      <td>3</td>\n",
              "      <td>0</td>\n",
              "    </tr>\n",
              "    <tr>\n",
              "      <th>3</th>\n",
              "      <td>61</td>\n",
              "      <td>1</td>\n",
              "      <td>0</td>\n",
              "      <td>148</td>\n",
              "      <td>203</td>\n",
              "      <td>0</td>\n",
              "      <td>1</td>\n",
              "      <td>161</td>\n",
              "      <td>0</td>\n",
              "      <td>0.0</td>\n",
              "      <td>2</td>\n",
              "      <td>1</td>\n",
              "      <td>3</td>\n",
              "      <td>0</td>\n",
              "    </tr>\n",
              "    <tr>\n",
              "      <th>4</th>\n",
              "      <td>62</td>\n",
              "      <td>0</td>\n",
              "      <td>0</td>\n",
              "      <td>138</td>\n",
              "      <td>294</td>\n",
              "      <td>1</td>\n",
              "      <td>1</td>\n",
              "      <td>106</td>\n",
              "      <td>0</td>\n",
              "      <td>1.9</td>\n",
              "      <td>1</td>\n",
              "      <td>3</td>\n",
              "      <td>2</td>\n",
              "      <td>0</td>\n",
              "    </tr>\n",
              "  </tbody>\n",
              "</table>\n",
              "</div>\n",
              "      <button class=\"colab-df-convert\" onclick=\"convertToInteractive('df-7331d2ae-cd17-46fb-b1ec-4d7ec7459ad5')\"\n",
              "              title=\"Convert this dataframe to an interactive table.\"\n",
              "              style=\"display:none;\">\n",
              "        \n",
              "  <svg xmlns=\"http://www.w3.org/2000/svg\" height=\"24px\"viewBox=\"0 0 24 24\"\n",
              "       width=\"24px\">\n",
              "    <path d=\"M0 0h24v24H0V0z\" fill=\"none\"/>\n",
              "    <path d=\"M18.56 5.44l.94 2.06.94-2.06 2.06-.94-2.06-.94-.94-2.06-.94 2.06-2.06.94zm-11 1L8.5 8.5l.94-2.06 2.06-.94-2.06-.94L8.5 2.5l-.94 2.06-2.06.94zm10 10l.94 2.06.94-2.06 2.06-.94-2.06-.94-.94-2.06-.94 2.06-2.06.94z\"/><path d=\"M17.41 7.96l-1.37-1.37c-.4-.4-.92-.59-1.43-.59-.52 0-1.04.2-1.43.59L10.3 9.45l-7.72 7.72c-.78.78-.78 2.05 0 2.83L4 21.41c.39.39.9.59 1.41.59.51 0 1.02-.2 1.41-.59l7.78-7.78 2.81-2.81c.8-.78.8-2.07 0-2.86zM5.41 20L4 18.59l7.72-7.72 1.47 1.35L5.41 20z\"/>\n",
              "  </svg>\n",
              "      </button>\n",
              "      \n",
              "  <style>\n",
              "    .colab-df-container {\n",
              "      display:flex;\n",
              "      flex-wrap:wrap;\n",
              "      gap: 12px;\n",
              "    }\n",
              "\n",
              "    .colab-df-convert {\n",
              "      background-color: #E8F0FE;\n",
              "      border: none;\n",
              "      border-radius: 50%;\n",
              "      cursor: pointer;\n",
              "      display: none;\n",
              "      fill: #1967D2;\n",
              "      height: 32px;\n",
              "      padding: 0 0 0 0;\n",
              "      width: 32px;\n",
              "    }\n",
              "\n",
              "    .colab-df-convert:hover {\n",
              "      background-color: #E2EBFA;\n",
              "      box-shadow: 0px 1px 2px rgba(60, 64, 67, 0.3), 0px 1px 3px 1px rgba(60, 64, 67, 0.15);\n",
              "      fill: #174EA6;\n",
              "    }\n",
              "\n",
              "    [theme=dark] .colab-df-convert {\n",
              "      background-color: #3B4455;\n",
              "      fill: #D2E3FC;\n",
              "    }\n",
              "\n",
              "    [theme=dark] .colab-df-convert:hover {\n",
              "      background-color: #434B5C;\n",
              "      box-shadow: 0px 1px 3px 1px rgba(0, 0, 0, 0.15);\n",
              "      filter: drop-shadow(0px 1px 2px rgba(0, 0, 0, 0.3));\n",
              "      fill: #FFFFFF;\n",
              "    }\n",
              "  </style>\n",
              "\n",
              "      <script>\n",
              "        const buttonEl =\n",
              "          document.querySelector('#df-7331d2ae-cd17-46fb-b1ec-4d7ec7459ad5 button.colab-df-convert');\n",
              "        buttonEl.style.display =\n",
              "          google.colab.kernel.accessAllowed ? 'block' : 'none';\n",
              "\n",
              "        async function convertToInteractive(key) {\n",
              "          const element = document.querySelector('#df-7331d2ae-cd17-46fb-b1ec-4d7ec7459ad5');\n",
              "          const dataTable =\n",
              "            await google.colab.kernel.invokeFunction('convertToInteractive',\n",
              "                                                     [key], {});\n",
              "          if (!dataTable) return;\n",
              "\n",
              "          const docLinkHtml = 'Like what you see? Visit the ' +\n",
              "            '<a target=\"_blank\" href=https://colab.research.google.com/notebooks/data_table.ipynb>data table notebook</a>'\n",
              "            + ' to learn more about interactive tables.';\n",
              "          element.innerHTML = '';\n",
              "          dataTable['output_type'] = 'display_data';\n",
              "          await google.colab.output.renderOutput(dataTable, element);\n",
              "          const docLink = document.createElement('div');\n",
              "          docLink.innerHTML = docLinkHtml;\n",
              "          element.appendChild(docLink);\n",
              "        }\n",
              "      </script>\n",
              "    </div>\n",
              "  </div>\n",
              "  "
            ]
          },
          "metadata": {},
          "execution_count": 2
        }
      ],
      "source": [
        "df = pd.read_csv(\"/content/sample_data/heart.csv\")\n",
        "df.head()"
      ]
    },
    {
      "cell_type": "code",
      "source": [
        "df.shape"
      ],
      "metadata": {
        "colab": {
          "base_uri": "https://localhost:8080/"
        },
        "id": "u_U5nP3-Zkox",
        "outputId": "deb3d69c-ee17-49de-8f6f-5716bc7db960"
      },
      "execution_count": 3,
      "outputs": [
        {
          "output_type": "execute_result",
          "data": {
            "text/plain": [
              "(1025, 14)"
            ]
          },
          "metadata": {},
          "execution_count": 3
        }
      ]
    },
    {
      "cell_type": "code",
      "source": [
        "df.info()"
      ],
      "metadata": {
        "colab": {
          "base_uri": "https://localhost:8080/"
        },
        "id": "jqTRuUvlWMLG",
        "outputId": "e79dde39-f1ac-473c-f3c6-1190d304523d"
      },
      "execution_count": 4,
      "outputs": [
        {
          "output_type": "stream",
          "name": "stdout",
          "text": [
            "<class 'pandas.core.frame.DataFrame'>\n",
            "RangeIndex: 1025 entries, 0 to 1024\n",
            "Data columns (total 14 columns):\n",
            " #   Column    Non-Null Count  Dtype  \n",
            "---  ------    --------------  -----  \n",
            " 0   age       1025 non-null   int64  \n",
            " 1   sex       1025 non-null   int64  \n",
            " 2   cp        1025 non-null   int64  \n",
            " 3   trestbps  1025 non-null   int64  \n",
            " 4   chol      1025 non-null   int64  \n",
            " 5   fbs       1025 non-null   int64  \n",
            " 6   restecg   1025 non-null   int64  \n",
            " 7   thalach   1025 non-null   int64  \n",
            " 8   exang     1025 non-null   int64  \n",
            " 9   oldpeak   1025 non-null   float64\n",
            " 10  slope     1025 non-null   int64  \n",
            " 11  ca        1025 non-null   int64  \n",
            " 12  thal      1025 non-null   int64  \n",
            " 13  target    1025 non-null   int64  \n",
            "dtypes: float64(1), int64(13)\n",
            "memory usage: 112.2 KB\n"
          ]
        }
      ]
    },
    {
      "cell_type": "markdown",
      "source": [
        "**Inference**: All are numeric attributes"
      ],
      "metadata": {
        "id": "Rod2oABAualA"
      }
    },
    {
      "cell_type": "code",
      "source": [
        "df.describe()"
      ],
      "metadata": {
        "colab": {
          "base_uri": "https://localhost:8080/",
          "height": 364
        },
        "id": "Ol7A9arbWjqF",
        "outputId": "38e5eba6-57d0-4e4c-9e65-42496f674362"
      },
      "execution_count": 5,
      "outputs": [
        {
          "output_type": "execute_result",
          "data": {
            "text/plain": [
              "               age          sex           cp     trestbps        chol  \\\n",
              "count  1025.000000  1025.000000  1025.000000  1025.000000  1025.00000   \n",
              "mean     54.434146     0.695610     0.942439   131.611707   246.00000   \n",
              "std       9.072290     0.460373     1.029641    17.516718    51.59251   \n",
              "min      29.000000     0.000000     0.000000    94.000000   126.00000   \n",
              "25%      48.000000     0.000000     0.000000   120.000000   211.00000   \n",
              "50%      56.000000     1.000000     1.000000   130.000000   240.00000   \n",
              "75%      61.000000     1.000000     2.000000   140.000000   275.00000   \n",
              "max      77.000000     1.000000     3.000000   200.000000   564.00000   \n",
              "\n",
              "               fbs      restecg      thalach        exang      oldpeak  \\\n",
              "count  1025.000000  1025.000000  1025.000000  1025.000000  1025.000000   \n",
              "mean      0.149268     0.529756   149.114146     0.336585     1.071512   \n",
              "std       0.356527     0.527878    23.005724     0.472772     1.175053   \n",
              "min       0.000000     0.000000    71.000000     0.000000     0.000000   \n",
              "25%       0.000000     0.000000   132.000000     0.000000     0.000000   \n",
              "50%       0.000000     1.000000   152.000000     0.000000     0.800000   \n",
              "75%       0.000000     1.000000   166.000000     1.000000     1.800000   \n",
              "max       1.000000     2.000000   202.000000     1.000000     6.200000   \n",
              "\n",
              "             slope           ca         thal       target  \n",
              "count  1025.000000  1025.000000  1025.000000  1025.000000  \n",
              "mean      1.385366     0.754146     2.323902     0.513171  \n",
              "std       0.617755     1.030798     0.620660     0.500070  \n",
              "min       0.000000     0.000000     0.000000     0.000000  \n",
              "25%       1.000000     0.000000     2.000000     0.000000  \n",
              "50%       1.000000     0.000000     2.000000     1.000000  \n",
              "75%       2.000000     1.000000     3.000000     1.000000  \n",
              "max       2.000000     4.000000     3.000000     1.000000  "
            ],
            "text/html": [
              "\n",
              "  <div id=\"df-5e184c6b-a36b-4ac5-83d7-0a974629a9d0\">\n",
              "    <div class=\"colab-df-container\">\n",
              "      <div>\n",
              "<style scoped>\n",
              "    .dataframe tbody tr th:only-of-type {\n",
              "        vertical-align: middle;\n",
              "    }\n",
              "\n",
              "    .dataframe tbody tr th {\n",
              "        vertical-align: top;\n",
              "    }\n",
              "\n",
              "    .dataframe thead th {\n",
              "        text-align: right;\n",
              "    }\n",
              "</style>\n",
              "<table border=\"1\" class=\"dataframe\">\n",
              "  <thead>\n",
              "    <tr style=\"text-align: right;\">\n",
              "      <th></th>\n",
              "      <th>age</th>\n",
              "      <th>sex</th>\n",
              "      <th>cp</th>\n",
              "      <th>trestbps</th>\n",
              "      <th>chol</th>\n",
              "      <th>fbs</th>\n",
              "      <th>restecg</th>\n",
              "      <th>thalach</th>\n",
              "      <th>exang</th>\n",
              "      <th>oldpeak</th>\n",
              "      <th>slope</th>\n",
              "      <th>ca</th>\n",
              "      <th>thal</th>\n",
              "      <th>target</th>\n",
              "    </tr>\n",
              "  </thead>\n",
              "  <tbody>\n",
              "    <tr>\n",
              "      <th>count</th>\n",
              "      <td>1025.000000</td>\n",
              "      <td>1025.000000</td>\n",
              "      <td>1025.000000</td>\n",
              "      <td>1025.000000</td>\n",
              "      <td>1025.00000</td>\n",
              "      <td>1025.000000</td>\n",
              "      <td>1025.000000</td>\n",
              "      <td>1025.000000</td>\n",
              "      <td>1025.000000</td>\n",
              "      <td>1025.000000</td>\n",
              "      <td>1025.000000</td>\n",
              "      <td>1025.000000</td>\n",
              "      <td>1025.000000</td>\n",
              "      <td>1025.000000</td>\n",
              "    </tr>\n",
              "    <tr>\n",
              "      <th>mean</th>\n",
              "      <td>54.434146</td>\n",
              "      <td>0.695610</td>\n",
              "      <td>0.942439</td>\n",
              "      <td>131.611707</td>\n",
              "      <td>246.00000</td>\n",
              "      <td>0.149268</td>\n",
              "      <td>0.529756</td>\n",
              "      <td>149.114146</td>\n",
              "      <td>0.336585</td>\n",
              "      <td>1.071512</td>\n",
              "      <td>1.385366</td>\n",
              "      <td>0.754146</td>\n",
              "      <td>2.323902</td>\n",
              "      <td>0.513171</td>\n",
              "    </tr>\n",
              "    <tr>\n",
              "      <th>std</th>\n",
              "      <td>9.072290</td>\n",
              "      <td>0.460373</td>\n",
              "      <td>1.029641</td>\n",
              "      <td>17.516718</td>\n",
              "      <td>51.59251</td>\n",
              "      <td>0.356527</td>\n",
              "      <td>0.527878</td>\n",
              "      <td>23.005724</td>\n",
              "      <td>0.472772</td>\n",
              "      <td>1.175053</td>\n",
              "      <td>0.617755</td>\n",
              "      <td>1.030798</td>\n",
              "      <td>0.620660</td>\n",
              "      <td>0.500070</td>\n",
              "    </tr>\n",
              "    <tr>\n",
              "      <th>min</th>\n",
              "      <td>29.000000</td>\n",
              "      <td>0.000000</td>\n",
              "      <td>0.000000</td>\n",
              "      <td>94.000000</td>\n",
              "      <td>126.00000</td>\n",
              "      <td>0.000000</td>\n",
              "      <td>0.000000</td>\n",
              "      <td>71.000000</td>\n",
              "      <td>0.000000</td>\n",
              "      <td>0.000000</td>\n",
              "      <td>0.000000</td>\n",
              "      <td>0.000000</td>\n",
              "      <td>0.000000</td>\n",
              "      <td>0.000000</td>\n",
              "    </tr>\n",
              "    <tr>\n",
              "      <th>25%</th>\n",
              "      <td>48.000000</td>\n",
              "      <td>0.000000</td>\n",
              "      <td>0.000000</td>\n",
              "      <td>120.000000</td>\n",
              "      <td>211.00000</td>\n",
              "      <td>0.000000</td>\n",
              "      <td>0.000000</td>\n",
              "      <td>132.000000</td>\n",
              "      <td>0.000000</td>\n",
              "      <td>0.000000</td>\n",
              "      <td>1.000000</td>\n",
              "      <td>0.000000</td>\n",
              "      <td>2.000000</td>\n",
              "      <td>0.000000</td>\n",
              "    </tr>\n",
              "    <tr>\n",
              "      <th>50%</th>\n",
              "      <td>56.000000</td>\n",
              "      <td>1.000000</td>\n",
              "      <td>1.000000</td>\n",
              "      <td>130.000000</td>\n",
              "      <td>240.00000</td>\n",
              "      <td>0.000000</td>\n",
              "      <td>1.000000</td>\n",
              "      <td>152.000000</td>\n",
              "      <td>0.000000</td>\n",
              "      <td>0.800000</td>\n",
              "      <td>1.000000</td>\n",
              "      <td>0.000000</td>\n",
              "      <td>2.000000</td>\n",
              "      <td>1.000000</td>\n",
              "    </tr>\n",
              "    <tr>\n",
              "      <th>75%</th>\n",
              "      <td>61.000000</td>\n",
              "      <td>1.000000</td>\n",
              "      <td>2.000000</td>\n",
              "      <td>140.000000</td>\n",
              "      <td>275.00000</td>\n",
              "      <td>0.000000</td>\n",
              "      <td>1.000000</td>\n",
              "      <td>166.000000</td>\n",
              "      <td>1.000000</td>\n",
              "      <td>1.800000</td>\n",
              "      <td>2.000000</td>\n",
              "      <td>1.000000</td>\n",
              "      <td>3.000000</td>\n",
              "      <td>1.000000</td>\n",
              "    </tr>\n",
              "    <tr>\n",
              "      <th>max</th>\n",
              "      <td>77.000000</td>\n",
              "      <td>1.000000</td>\n",
              "      <td>3.000000</td>\n",
              "      <td>200.000000</td>\n",
              "      <td>564.00000</td>\n",
              "      <td>1.000000</td>\n",
              "      <td>2.000000</td>\n",
              "      <td>202.000000</td>\n",
              "      <td>1.000000</td>\n",
              "      <td>6.200000</td>\n",
              "      <td>2.000000</td>\n",
              "      <td>4.000000</td>\n",
              "      <td>3.000000</td>\n",
              "      <td>1.000000</td>\n",
              "    </tr>\n",
              "  </tbody>\n",
              "</table>\n",
              "</div>\n",
              "      <button class=\"colab-df-convert\" onclick=\"convertToInteractive('df-5e184c6b-a36b-4ac5-83d7-0a974629a9d0')\"\n",
              "              title=\"Convert this dataframe to an interactive table.\"\n",
              "              style=\"display:none;\">\n",
              "        \n",
              "  <svg xmlns=\"http://www.w3.org/2000/svg\" height=\"24px\"viewBox=\"0 0 24 24\"\n",
              "       width=\"24px\">\n",
              "    <path d=\"M0 0h24v24H0V0z\" fill=\"none\"/>\n",
              "    <path d=\"M18.56 5.44l.94 2.06.94-2.06 2.06-.94-2.06-.94-.94-2.06-.94 2.06-2.06.94zm-11 1L8.5 8.5l.94-2.06 2.06-.94-2.06-.94L8.5 2.5l-.94 2.06-2.06.94zm10 10l.94 2.06.94-2.06 2.06-.94-2.06-.94-.94-2.06-.94 2.06-2.06.94z\"/><path d=\"M17.41 7.96l-1.37-1.37c-.4-.4-.92-.59-1.43-.59-.52 0-1.04.2-1.43.59L10.3 9.45l-7.72 7.72c-.78.78-.78 2.05 0 2.83L4 21.41c.39.39.9.59 1.41.59.51 0 1.02-.2 1.41-.59l7.78-7.78 2.81-2.81c.8-.78.8-2.07 0-2.86zM5.41 20L4 18.59l7.72-7.72 1.47 1.35L5.41 20z\"/>\n",
              "  </svg>\n",
              "      </button>\n",
              "      \n",
              "  <style>\n",
              "    .colab-df-container {\n",
              "      display:flex;\n",
              "      flex-wrap:wrap;\n",
              "      gap: 12px;\n",
              "    }\n",
              "\n",
              "    .colab-df-convert {\n",
              "      background-color: #E8F0FE;\n",
              "      border: none;\n",
              "      border-radius: 50%;\n",
              "      cursor: pointer;\n",
              "      display: none;\n",
              "      fill: #1967D2;\n",
              "      height: 32px;\n",
              "      padding: 0 0 0 0;\n",
              "      width: 32px;\n",
              "    }\n",
              "\n",
              "    .colab-df-convert:hover {\n",
              "      background-color: #E2EBFA;\n",
              "      box-shadow: 0px 1px 2px rgba(60, 64, 67, 0.3), 0px 1px 3px 1px rgba(60, 64, 67, 0.15);\n",
              "      fill: #174EA6;\n",
              "    }\n",
              "\n",
              "    [theme=dark] .colab-df-convert {\n",
              "      background-color: #3B4455;\n",
              "      fill: #D2E3FC;\n",
              "    }\n",
              "\n",
              "    [theme=dark] .colab-df-convert:hover {\n",
              "      background-color: #434B5C;\n",
              "      box-shadow: 0px 1px 3px 1px rgba(0, 0, 0, 0.15);\n",
              "      filter: drop-shadow(0px 1px 2px rgba(0, 0, 0, 0.3));\n",
              "      fill: #FFFFFF;\n",
              "    }\n",
              "  </style>\n",
              "\n",
              "      <script>\n",
              "        const buttonEl =\n",
              "          document.querySelector('#df-5e184c6b-a36b-4ac5-83d7-0a974629a9d0 button.colab-df-convert');\n",
              "        buttonEl.style.display =\n",
              "          google.colab.kernel.accessAllowed ? 'block' : 'none';\n",
              "\n",
              "        async function convertToInteractive(key) {\n",
              "          const element = document.querySelector('#df-5e184c6b-a36b-4ac5-83d7-0a974629a9d0');\n",
              "          const dataTable =\n",
              "            await google.colab.kernel.invokeFunction('convertToInteractive',\n",
              "                                                     [key], {});\n",
              "          if (!dataTable) return;\n",
              "\n",
              "          const docLinkHtml = 'Like what you see? Visit the ' +\n",
              "            '<a target=\"_blank\" href=https://colab.research.google.com/notebooks/data_table.ipynb>data table notebook</a>'\n",
              "            + ' to learn more about interactive tables.';\n",
              "          element.innerHTML = '';\n",
              "          dataTable['output_type'] = 'display_data';\n",
              "          await google.colab.output.renderOutput(dataTable, element);\n",
              "          const docLink = document.createElement('div');\n",
              "          docLink.innerHTML = docLinkHtml;\n",
              "          element.appendChild(docLink);\n",
              "        }\n",
              "      </script>\n",
              "    </div>\n",
              "  </div>\n",
              "  "
            ]
          },
          "metadata": {},
          "execution_count": 5
        }
      ]
    },
    {
      "cell_type": "code",
      "source": [
        "#Checking for null values\n",
        "df.isnull().sum()"
      ],
      "metadata": {
        "colab": {
          "base_uri": "https://localhost:8080/"
        },
        "id": "YhxRzLPnXI4O",
        "outputId": "81bc351e-01c0-4067-d013-9b0a130a8fb2"
      },
      "execution_count": 6,
      "outputs": [
        {
          "output_type": "execute_result",
          "data": {
            "text/plain": [
              "age         0\n",
              "sex         0\n",
              "cp          0\n",
              "trestbps    0\n",
              "chol        0\n",
              "fbs         0\n",
              "restecg     0\n",
              "thalach     0\n",
              "exang       0\n",
              "oldpeak     0\n",
              "slope       0\n",
              "ca          0\n",
              "thal        0\n",
              "target      0\n",
              "dtype: int64"
            ]
          },
          "metadata": {},
          "execution_count": 6
        }
      ]
    },
    {
      "cell_type": "markdown",
      "source": [
        "####Generating the Profile report with inbuilt function"
      ],
      "metadata": {
        "id": "_4cV34sgDuHi"
      }
    },
    {
      "cell_type": "code",
      "source": [
        "#!pip install https://github.com/pandas-profiling/pandas-profiling/archive/master.zip"
      ],
      "metadata": {
        "id": "qLx5-1jQTC_E"
      },
      "execution_count": 7,
      "outputs": []
    },
    {
      "cell_type": "code",
      "source": [
        "'''\n",
        "import pandas_profiling as pp\n",
        "pp.ProfileReport(df)\n",
        "'''"
      ],
      "metadata": {
        "colab": {
          "base_uri": "https://localhost:8080/",
          "height": 36
        },
        "id": "gfk3KfhTTI7A",
        "outputId": "990a47e2-07df-46a5-dc96-6229b4a1b7ef"
      },
      "execution_count": 8,
      "outputs": [
        {
          "output_type": "execute_result",
          "data": {
            "text/plain": [
              "'\\nimport pandas_profiling as pp\\npp.ProfileReport(df)\\n'"
            ],
            "application/vnd.google.colaboratory.intrinsic+json": {
              "type": "string"
            }
          },
          "metadata": {},
          "execution_count": 8
        }
      ]
    },
    {
      "cell_type": "markdown",
      "source": [
        "###2.2 Finding unique values"
      ],
      "metadata": {
        "id": "KywniM98uArH"
      }
    },
    {
      "cell_type": "code",
      "source": [
        "df.nunique()"
      ],
      "metadata": {
        "colab": {
          "base_uri": "https://localhost:8080/"
        },
        "id": "6oIsYesqsfnv",
        "outputId": "859ab2bc-4d2a-47b0-df59-74b3cd72d811"
      },
      "execution_count": 9,
      "outputs": [
        {
          "output_type": "execute_result",
          "data": {
            "text/plain": [
              "age          41\n",
              "sex           2\n",
              "cp            4\n",
              "trestbps     49\n",
              "chol        152\n",
              "fbs           2\n",
              "restecg       3\n",
              "thalach      91\n",
              "exang         2\n",
              "oldpeak      40\n",
              "slope         3\n",
              "ca            5\n",
              "thal          4\n",
              "target        2\n",
              "dtype: int64"
            ]
          },
          "metadata": {},
          "execution_count": 9
        }
      ]
    },
    {
      "cell_type": "code",
      "source": [
        "for i in range(len(df.columns)):\n",
        "    print(f\"Unique values in {df.columns[i]}:\\n\", df[df.columns[i]].unique())"
      ],
      "metadata": {
        "colab": {
          "base_uri": "https://localhost:8080/"
        },
        "id": "UcfEZsAPpbfO",
        "outputId": "5137eb12-117c-40ea-91ef-2a8c050f9156"
      },
      "execution_count": 10,
      "outputs": [
        {
          "output_type": "stream",
          "name": "stdout",
          "text": [
            "Unique values in age:\n",
            " [52 53 70 61 62 58 55 46 54 71 43 34 51 50 60 67 45 63 42 44 56 57 59 64\n",
            " 65 41 66 38 49 48 29 37 47 68 76 40 39 77 69 35 74]\n",
            "Unique values in sex:\n",
            " [1 0]\n",
            "Unique values in cp:\n",
            " [0 1 2 3]\n",
            "Unique values in trestbps:\n",
            " [125 140 145 148 138 100 114 160 120 122 112 132 118 128 124 106 104 135\n",
            " 130 136 180 129 150 178 146 117 152 154 170 134 174 144 108 123 110 142\n",
            " 126 192 115  94 200 165 102 105 155 172 164 156 101]\n",
            "Unique values in chol:\n",
            " [212 203 174 294 248 318 289 249 286 149 341 210 298 204 308 266 244 211\n",
            " 185 223 208 252 209 307 233 319 256 327 169 131 269 196 231 213 271 263\n",
            " 229 360 258 330 342 226 228 278 230 283 241 175 188 217 193 245 232 299\n",
            " 288 197 315 215 164 326 207 177 257 255 187 201 220 268 267 236 303 282\n",
            " 126 309 186 275 281 206 335 218 254 295 417 260 240 302 192 225 325 235\n",
            " 274 234 182 167 172 321 300 199 564 157 304 222 184 354 160 247 239 246\n",
            " 409 293 180 250 221 200 227 243 311 261 242 205 306 219 353 198 394 183\n",
            " 237 224 265 313 340 259 270 216 264 276 322 214 273 253 176 284 305 168\n",
            " 407 290 277 262 195 166 178 141]\n",
            "Unique values in fbs:\n",
            " [0 1]\n",
            "Unique values in restecg:\n",
            " [1 0 2]\n",
            "Unique values in thalach:\n",
            " [168 155 125 161 106 122 140 145 144 116 136 192 156 142 109 162 165 148\n",
            " 172 173 146 179 152 117 115 112 163 147 182 105 150 151 169 166 178 132\n",
            " 160 123 139 111 180 164 202 157 159 170 138 175 158 126 143 141 167  95\n",
            " 190 118 103 181 108 177 134 120 171 149 154 153  88 174 114 195 133  96\n",
            " 124 131 185 194 128 127 186 184 188 130  71 137  99 121 187  97  90 129\n",
            " 113]\n",
            "Unique values in exang:\n",
            " [0 1]\n",
            "Unique values in oldpeak:\n",
            " [1.  3.1 2.6 0.  1.9 4.4 0.8 3.2 1.6 3.  0.7 4.2 1.5 2.2 1.1 0.3 0.4 0.6\n",
            " 3.4 2.8 1.2 2.9 3.6 1.4 0.2 2.  5.6 0.9 1.8 6.2 4.  2.5 0.5 0.1 2.1 2.4\n",
            " 3.8 2.3 1.3 3.5]\n",
            "Unique values in slope:\n",
            " [2 0 1]\n",
            "Unique values in ca:\n",
            " [2 0 1 3 4]\n",
            "Unique values in thal:\n",
            " [3 2 1 0]\n",
            "Unique values in target:\n",
            " [0 1]\n"
          ]
        }
      ]
    },
    {
      "cell_type": "markdown",
      "source": [
        "**Inference**: The variables types are-\n",
        "*   **Binary**: sex, fbs, exang, target\n",
        "*   **Categorical**: cp, restecg, slope, ca, thal\n",
        "*   **Continuous**: age, trestbps, chol, thalac, oldpeak"
      ],
      "metadata": {
        "id": "gjMJQQCOq9qK"
      }
    },
    {
      "cell_type": "markdown",
      "source": [
        "###2.3 Removing Outliers"
      ],
      "metadata": {
        "id": "CM8wl0T2wiAj"
      }
    },
    {
      "cell_type": "code",
      "source": [
        "#Plotting outliers\n",
        "df.plot(kind='box', subplots=True, layout=(2,7),\n",
        "sharex=False,sharey=False, figsize=(20, 10), \n",
        "color='blue');"
      ],
      "metadata": {
        "colab": {
          "base_uri": "https://localhost:8080/",
          "height": 592
        },
        "id": "9ik10MDLwc89",
        "outputId": "aaa9946d-0ba5-40b5-f0c6-0db226d25c81"
      },
      "execution_count": 11,
      "outputs": [
        {
          "output_type": "display_data",
          "data": {
            "text/plain": [
              "<Figure size 1440x720 with 14 Axes>"
            ],
            "image/png": "[encoded data removed]"
          },
          "metadata": {
            "needs_background": "light"
          }
        }
      ]
    },
    {
      "cell_type": "markdown",
      "source": [
        "Inference: Attributes 'tresbps', 'chol', 'ca', 'oldpeak' have outliers that need to be treated."
      ],
      "metadata": {
        "id": "rVvp_f5C26uy"
      }
    },
    {
      "cell_type": "code",
      "source": [
        "#Plotting them with the target variable for a better understanding\n",
        "sns.boxplot(x=\"target\", y=\"trestbps\", data=df)"
      ],
      "metadata": {
        "colab": {
          "base_uri": "https://localhost:8080/",
          "height": 296
        },
        "id": "of58Hwnx26e8",
        "outputId": "cdc47a61-8809-4d3d-ff99-b810872f5ddf"
      },
      "execution_count": 12,
      "outputs": [
        {
          "output_type": "execute_result",
          "data": {
            "text/plain": [
              "<matplotlib.axes._subplots.AxesSubplot at 0x7f8b4a029fd0>"
            ]
          },
          "metadata": {},
          "execution_count": 12
        },
        {
          "output_type": "display_data",
          "data": {
            "text/plain": [
              "<Figure size 432x288 with 1 Axes>"
            ],
            "image/png": "[encoded data removed]"
          },
          "metadata": {
            "needs_background": "light"
          }
        }
      ]
    },
    {
      "cell_type": "code",
      "source": [
        "sns.boxplot(x=\"target\", y=\"chol\", data=df)\n"
      ],
      "metadata": {
        "colab": {
          "base_uri": "https://localhost:8080/",
          "height": 296
        },
        "id": "eavjqmMzw6IA",
        "outputId": "3af4382e-627e-43cc-8f07-25e261001cf3"
      },
      "execution_count": 13,
      "outputs": [
        {
          "output_type": "execute_result",
          "data": {
            "text/plain": [
              "<matplotlib.axes._subplots.AxesSubplot at 0x7f8b49b284d0>"
            ]
          },
          "metadata": {},
          "execution_count": 13
        },
        {
          "output_type": "display_data",
          "data": {
            "text/plain": [
              "<Figure size 432x288 with 1 Axes>"
            ],
            "image/png": "[encoded data removed]"
          },
          "metadata": {
            "needs_background": "light"
          }
        }
      ]
    },
    {
      "cell_type": "code",
      "source": [
        "sns.boxplot(x=\"target\", y=\"ca\", data=df)"
      ],
      "metadata": {
        "colab": {
          "base_uri": "https://localhost:8080/",
          "height": 296
        },
        "id": "ODkuBPcmBw6A",
        "outputId": "516091ff-78dd-4a38-d2b7-60a305cfe3ef"
      },
      "execution_count": 14,
      "outputs": [
        {
          "output_type": "execute_result",
          "data": {
            "text/plain": [
              "<matplotlib.axes._subplots.AxesSubplot at 0x7f8b49a95710>"
            ]
          },
          "metadata": {},
          "execution_count": 14
        },
        {
          "output_type": "display_data",
          "data": {
            "text/plain": [
              "<Figure size 432x288 with 1 Axes>"
            ],
            "image/png": "[encoded data removed]"
          },
          "metadata": {
            "needs_background": "light"
          }
        }
      ]
    },
    {
      "cell_type": "code",
      "source": [
        "sns.boxplot(x=\"target\", y=\"oldpeak\", data=df)"
      ],
      "metadata": {
        "colab": {
          "base_uri": "https://localhost:8080/",
          "height": 296
        },
        "id": "9SgJ-D-cByKG",
        "outputId": "968efe53-1c11-4600-912e-9e26cfdf8e86"
      },
      "execution_count": 15,
      "outputs": [
        {
          "output_type": "execute_result",
          "data": {
            "text/plain": [
              "<matplotlib.axes._subplots.AxesSubplot at 0x7f8b49a610d0>"
            ]
          },
          "metadata": {},
          "execution_count": 15
        },
        {
          "output_type": "display_data",
          "data": {
            "text/plain": [
              "<Figure size 432x288 with 1 Axes>"
            ],
            "image/png": "[encoded data removed]"
          },
          "metadata": {
            "needs_background": "light"
          }
        }
      ]
    },
    {
      "cell_type": "code",
      "source": [
        "#defining function for removing outliers\n",
        "def outliers(df_out, drop = False):\n",
        "    for each_feature in df_out.columns:\n",
        "\n",
        "      #Extracting each feature individually\n",
        "        feature_data = df_out[each_feature]\n",
        "\n",
        "        Q1 = np.percentile(feature_data, 22.) # 22nd percentile \n",
        "        Q3 = np.percentile(feature_data, 78.) # 78th percentile\n",
        "\n",
        "        IQR = Q3-Q1 #Interquartile Range\n",
        "\n",
        "        outlier_step = IQR * 1.5\n",
        "        outliers = feature_data[~((feature_data >= Q1 - outlier_step) & (feature_data <= Q3 + outlier_step))].index.tolist()  \n",
        "        \n",
        "        #printing no. of outliers\n",
        "        if not drop:\n",
        "            print(' No. of Outliers in {} is {}'.format(each_feature, len(outliers)))\n",
        "\n",
        "          #Removing those outliers\n",
        "        if drop:\n",
        "            df.drop(outliers, inplace = True, errors = 'ignore')\n",
        "            print('Outliers from {} removed!'.format(each_feature))\n",
        "\n",
        "outlier_array = ['ca','trestbps','chol', 'oldpeak']\n",
        "\n",
        "outliers(df[outlier_array])"
      ],
      "metadata": {
        "colab": {
          "base_uri": "https://localhost:8080/"
        },
        "id": "GbtCnfgB3TK8",
        "outputId": "f163e9b2-27b3-40b9-97f1-00b8a0f502fc"
      },
      "execution_count": 16,
      "outputs": [
        {
          "output_type": "stream",
          "name": "stdout",
          "text": [
            " No. of Outliers in ca is 87\n",
            " No. of Outliers in trestbps is 30\n",
            " No. of Outliers in chol is 13\n",
            " No. of Outliers in oldpeak is 7\n"
          ]
        }
      ]
    },
    {
      "cell_type": "code",
      "source": [
        "#Removing the outliers\n",
        "outliers(df[outlier_array], drop = True)"
      ],
      "metadata": {
        "colab": {
          "base_uri": "https://localhost:8080/"
        },
        "id": "reUJLuLy4we9",
        "outputId": "a9f361c7-953e-4c93-9ba6-c66ed72ac0f5"
      },
      "execution_count": 17,
      "outputs": [
        {
          "output_type": "stream",
          "name": "stdout",
          "text": [
            "Outliers from ca removed!\n",
            "Outliers from trestbps removed!\n",
            "Outliers from chol removed!\n",
            "Outliers from oldpeak removed!\n"
          ]
        }
      ]
    },
    {
      "cell_type": "code",
      "source": [
        "#Plotting again to confirm\n",
        "df.plot(kind='box', subplots=True, layout=(2,7),\n",
        "sharex=False,sharey=False, figsize=(20, 10), \n",
        "color='blue');"
      ],
      "metadata": {
        "colab": {
          "base_uri": "https://localhost:8080/",
          "height": 592
        },
        "id": "y3wddVhq9Dwu",
        "outputId": "7f305b29-bf94-4259-f797-82e13ca25197"
      },
      "execution_count": 18,
      "outputs": [
        {
          "output_type": "display_data",
          "data": {
            "text/plain": [
              "<Figure size 1440x720 with 14 Axes>"
            ],
            "image/png": "[encoded data removed]"
          },
          "metadata": {
            "needs_background": "light"
          }
        }
      ]
    },
    {
      "cell_type": "markdown",
      "source": [
        "###2.4 Distrubutions and relationship between variables"
      ],
      "metadata": {
        "id": "UaNJ2V5E5Jaf"
      }
    },
    {
      "cell_type": "code",
      "source": [
        "df[\"target\"].value_counts()"
      ],
      "metadata": {
        "colab": {
          "base_uri": "https://localhost:8080/"
        },
        "id": "uCMGYwMJbE2A",
        "outputId": "4e63c902-3d36-4196-888d-40868c5d542d"
      },
      "execution_count": 19,
      "outputs": [
        {
          "output_type": "execute_result",
          "data": {
            "text/plain": [
              "1    487\n",
              "0    408\n",
              "Name: target, dtype: int64"
            ]
          },
          "metadata": {},
          "execution_count": 19
        }
      ]
    },
    {
      "cell_type": "markdown",
      "source": [
        "Inference: Class labels of the target variable are almost balanced but the no. of diseased people are slightly more than healthy ones."
      ],
      "metadata": {
        "id": "GpmCvAXFbIGn"
      }
    },
    {
      "cell_type": "code",
      "source": [
        "sns.countplot(x='target', data=df)\n",
        "plt.show()"
      ],
      "metadata": {
        "colab": {
          "base_uri": "https://localhost:8080/",
          "height": 279
        },
        "id": "8jFeAyZZbXhK",
        "outputId": "96c85d69-8759-40bc-a300-07b225e9d8b2"
      },
      "execution_count": 20,
      "outputs": [
        {
          "output_type": "display_data",
          "data": {
            "text/plain": [
              "<Figure size 432x288 with 1 Axes>"
            ],
            "image/png": "[encoded data removed]"
          },
          "metadata": {
            "needs_background": "light"
          }
        }
      ]
    },
    {
      "cell_type": "code",
      "source": [
        "#Visualizing the correlation between the variables\n",
        "plt.figure(figsize=(14,9))\n",
        "sns.heatmap(df.corr(),annot=True)\n",
        "plt.plot()"
      ],
      "metadata": {
        "colab": {
          "base_uri": "https://localhost:8080/",
          "height": 558
        },
        "id": "WSyWWFoLXjK9",
        "outputId": "4d90d361-3619-437c-f4c2-23481ca2b864"
      },
      "execution_count": 21,
      "outputs": [
        {
          "output_type": "execute_result",
          "data": {
            "text/plain": [
              "[]"
            ]
          },
          "metadata": {},
          "execution_count": 21
        },
        {
          "output_type": "display_data",
          "data": {
            "text/plain": [
              "<Figure size 1008x648 with 2 Axes>"
            ],
            "image/png": "[encoded data removed]"
          },
          "metadata": {
            "needs_background": "light"
          }
        }
      ]
    },
    {
      "cell_type": "markdown",
      "source": [
        "Inference: Most of the attributes have a low correlation with the target variable. (<0.5)\n",
        "\n",
        "CA has the highest negative correlation i.e -0.46"
      ],
      "metadata": {
        "id": "cPZHRQE3bmXq"
      }
    },
    {
      "cell_type": "code",
      "source": [
        "'''\n",
        "#Visualize the class label against the predictor variables\n",
        "sns.pairplot(df,hue=\"target\",height=8)\n",
        "'''"
      ],
      "metadata": {
        "colab": {
          "base_uri": "https://localhost:8080/",
          "height": 36
        },
        "id": "evXjEKTnX_aD",
        "outputId": "71ab2a0d-a906-48c1-86c6-c3801da55884"
      },
      "execution_count": 22,
      "outputs": [
        {
          "output_type": "execute_result",
          "data": {
            "text/plain": [
              "'\\n#Visualize the class label against the predictor variables\\nsns.pairplot(df,hue=\"target\",height=8)\\n'"
            ],
            "application/vnd.google.colaboratory.intrinsic+json": {
              "type": "string"
            }
          },
          "metadata": {},
          "execution_count": 22
        }
      ]
    },
    {
      "cell_type": "code",
      "source": [
        "# define continuous variable & plot\n",
        "continous_features = ['age', 'chol', 'thalach', 'oldpeak','trestbps']  "
      ],
      "metadata": {
        "id": "_SdEQjciATgb"
      },
      "execution_count": 23,
      "outputs": []
    },
    {
      "cell_type": "markdown",
      "source": [
        "####2.4.1 Age variable distribution"
      ],
      "metadata": {
        "id": "e9SCOrrr9Vvf"
      }
    },
    {
      "cell_type": "code",
      "source": [
        "sns.barplot(x=df.age.value_counts()[:10].index,\n",
        "y=df.age.value_counts()[:10].values, palette='rocket')\n",
        "plt.xlabel('Age')\n",
        "plt.ylabel('Age distribution')"
      ],
      "metadata": {
        "colab": {
          "base_uri": "https://localhost:8080/",
          "height": 296
        },
        "id": "Uat2biQbqkmZ",
        "outputId": "3c4d57be-c5c3-493a-b14d-62bbc60f386a"
      },
      "execution_count": 24,
      "outputs": [
        {
          "output_type": "execute_result",
          "data": {
            "text/plain": [
              "Text(0, 0.5, 'Age distribution')"
            ]
          },
          "metadata": {},
          "execution_count": 24
        },
        {
          "output_type": "display_data",
          "data": {
            "text/plain": [
              "<Figure size 432x288 with 1 Axes>"
            ],
            "image/png": "[encoded data removed]"
          },
          "metadata": {
            "needs_background": "light"
          }
        }
      ]
    },
    {
      "cell_type": "markdown",
      "source": [
        "Inference - Normally distributed. Most of the patients are in the age between 50s to 60s"
      ],
      "metadata": {
        "id": "8vXDusrf9mvT"
      }
    },
    {
      "cell_type": "markdown",
      "source": [
        "####2.4.2 Gender distribution"
      ],
      "metadata": {
        "id": "BFdxn8cX-Cyg"
      }
    },
    {
      "cell_type": "code",
      "source": [
        "fig, ax = plt.subplots(figsize=(8,5))\n",
        "name = df['sex']\n",
        "ax = sns.countplot(x='sex', hue='target', data=df, palette='rocket')\n",
        "ax.set_title(\"Sex Distribution according to Target\", fontsize = 13, weight = 'bold')\n",
        "ax.set_xticklabels (name, rotation = 0)\n",
        "\n",
        "totals = []\n",
        "\n",
        "for i in ax.patches:\n",
        "    totals.append(i.get_height())\n",
        "total = sum(totals)\n",
        "\n",
        "for i in ax.patches:\n",
        "    ax.text(i.get_x()+.05, i.get_height()-15,\n",
        "            #getting percentages on top of the stack\n",
        "            str(round((i.get_height()/total)*100, 2))+'%', fontsize=14,\n",
        "                color='white', weight = 'bold')  \n",
        "plt.tight_layout()"
      ],
      "metadata": {
        "colab": {
          "base_uri": "https://localhost:8080/",
          "height": 369
        },
        "id": "bGNv_cED9iiB",
        "outputId": "7c231475-383e-4367-af42-ee4b3d9fdbc5"
      },
      "execution_count": 25,
      "outputs": [
        {
          "output_type": "display_data",
          "data": {
            "text/plain": [
              "<Figure size 576x360 with 1 Axes>"
            ],
            "image/png": "[encoded data removed]"
          },
          "metadata": {
            "needs_background": "light"
          }
        }
      ]
    },
    {
      "cell_type": "markdown",
      "source": [
        "**Inference**: Among the diseased patients, males are higher than female."
      ],
      "metadata": {
        "id": "ew3QHLql-lXX"
      }
    },
    {
      "cell_type": "markdown",
      "source": [
        "####2.4.3 Chest pain distribution"
      ],
      "metadata": {
        "id": "5b3g9S4M-tui"
      }
    },
    {
      "cell_type": "code",
      "source": [
        "fig, ax = plt.subplots(figsize=(10,5))\n",
        "name = df['cp']\n",
        "\n",
        "ax = sns.countplot(x='cp', hue='target', data=df, palette='rocket')\n",
        "ax.set_title(\"Chest Pain Distribution according to Target\", fontsize = 13, weight = 'bold')\n",
        "ax.set_xticklabels (name, rotation = 0)\n",
        "\n",
        "totals = []\n",
        "\n",
        "for i in ax.patches:\n",
        "  #Getting the height of the stacks\n",
        "    totals.append(i.get_height())\n",
        "total = sum(totals)\n",
        "\n",
        "for i in ax.patches:\n",
        "    ax.text(i.get_x()+.03, i.get_height()-5,\n",
        "            str(round((i.get_height()/total)*100, 2))+'%', fontsize=14,\n",
        "                color='white', weight = 'bold')  \n",
        "    \n",
        "plt.tight_layout()"
      ],
      "metadata": {
        "colab": {
          "base_uri": "https://localhost:8080/",
          "height": 369
        },
        "id": "fi1T0c0J-Onx",
        "outputId": "8e9075a5-a330-4a00-999c-34310adb4e55"
      },
      "execution_count": 26,
      "outputs": [
        {
          "output_type": "display_data",
          "data": {
            "text/plain": [
              "<Figure size 720x360 with 1 Axes>"
            ],
            "image/png": "[encoded data removed]"
          },
          "metadata": {
            "needs_background": "light"
          }
        }
      ]
    },
    {
      "cell_type": "markdown",
      "source": [
        "**Inference**: Most of the healthy subjects also have chest pain. Chest pain can be subjective due to stress, physical activities and many more and varies between gender."
      ],
      "metadata": {
        "id": "Zkwn5sRp_GAn"
      }
    },
    {
      "cell_type": "markdown",
      "source": [
        "####2.4.4 thalassemia distribution"
      ],
      "metadata": {
        "id": "DfX7KvIi_Ozr"
      }
    },
    {
      "cell_type": "code",
      "source": [
        "sns.countplot(x='thal', hue='target', data=df, palette='rocket').set_title('Disease classes according to thal')\n"
      ],
      "metadata": {
        "colab": {
          "base_uri": "https://localhost:8080/",
          "height": 312
        },
        "id": "ehX47Cbf-8m9",
        "outputId": "5032abac-4a01-44b4-faac-feaed1b91ec7"
      },
      "execution_count": 27,
      "outputs": [
        {
          "output_type": "execute_result",
          "data": {
            "text/plain": [
              "Text(0.5, 1.0, 'Disease classes according to thal')"
            ]
          },
          "metadata": {},
          "execution_count": 27
        },
        {
          "output_type": "display_data",
          "data": {
            "text/plain": [
              "<Figure size 432x288 with 1 Axes>"
            ],
            "image/png": "[encoded data removed]"
          },
          "metadata": {
            "needs_background": "light"
          }
        }
      ]
    },
    {
      "cell_type": "markdown",
      "source": [
        "####2.4.5 exercise induced angina distribution"
      ],
      "metadata": {
        "id": "Aj1zFPhKCmgd"
      }
    },
    {
      "cell_type": "code",
      "source": [
        "sns.countplot(x='exang', hue='target', data=df, palette='rocket').set_title('Disease classes according to Exercise Induced Angina')\n"
      ],
      "metadata": {
        "colab": {
          "base_uri": "https://localhost:8080/",
          "height": 312
        },
        "id": "C1MzaJ9S_pbA",
        "outputId": "d95b247e-4ca6-4ab0-a988-f58cc7909996"
      },
      "execution_count": 28,
      "outputs": [
        {
          "output_type": "execute_result",
          "data": {
            "text/plain": [
              "Text(0.5, 1.0, 'Disease classes according to Exercise Induced Angina')"
            ]
          },
          "metadata": {},
          "execution_count": 28
        },
        {
          "output_type": "display_data",
          "data": {
            "text/plain": [
              "<Figure size 432x288 with 1 Axes>"
            ],
            "image/png": "[encoded data removed]"
          },
          "metadata": {
            "needs_background": "light"
          }
        }
      ]
    },
    {
      "cell_type": "markdown",
      "source": [
        "####2.4.6 fasting blood sugar distribution"
      ],
      "metadata": {
        "id": "e9ed3dUCCsh1"
      }
    },
    {
      "cell_type": "code",
      "source": [
        "sns.countplot(x='fbs', hue='target', data=df, palette='rocket').set_title('Disease classes according to fbs')\n"
      ],
      "metadata": {
        "colab": {
          "base_uri": "https://localhost:8080/",
          "height": 312
        },
        "id": "okBeMtze_tjl",
        "outputId": "2125e934-98a4-4bc5-8bcc-fea5e4f21b8e"
      },
      "execution_count": 29,
      "outputs": [
        {
          "output_type": "execute_result",
          "data": {
            "text/plain": [
              "Text(0.5, 1.0, 'Disease classes according to fbs')"
            ]
          },
          "metadata": {},
          "execution_count": 29
        },
        {
          "output_type": "display_data",
          "data": {
            "text/plain": [
              "<Figure size 432x288 with 1 Axes>"
            ],
            "image/png": "[encoded data removed]"
          },
          "metadata": {
            "needs_background": "light"
          }
        }
      ]
    },
    {
      "cell_type": "markdown",
      "source": [
        "Inference: fbs >120 mg/d is considered diabetic (True class). \n",
        "The number for class true, is lower compared to class false. However, if we look closely, there are higher number of heart disease patient without diabetes. This provide an indication that fbs might not be a strong feature differentiating between heart disease an non-disease patient."
      ],
      "metadata": {
        "id": "QdiGzkAzENcA"
      }
    },
    {
      "cell_type": "markdown",
      "source": [
        "####2.4.7 major vessals distribution"
      ],
      "metadata": {
        "id": "-92uEzYaC3Bx"
      }
    },
    {
      "cell_type": "code",
      "source": [
        "sns.countplot(x='ca', hue='target', data=df, palette='rocket').set_title('Disease classes according to Num Major Vessel')\n"
      ],
      "metadata": {
        "colab": {
          "base_uri": "https://localhost:8080/",
          "height": 312
        },
        "id": "H9D6K2Tl_vbT",
        "outputId": "28144e16-7240-46a1-8a3b-49dc462cef2b"
      },
      "execution_count": 30,
      "outputs": [
        {
          "output_type": "execute_result",
          "data": {
            "text/plain": [
              "Text(0.5, 1.0, 'Disease classes according to Num Major Vessel')"
            ]
          },
          "metadata": {},
          "execution_count": 30
        },
        {
          "output_type": "display_data",
          "data": {
            "text/plain": [
              "<Figure size 432x288 with 1 Axes>"
            ],
            "image/png": "[encoded data removed]"
          },
          "metadata": {
            "needs_background": "light"
          }
        }
      ]
    },
    {
      "cell_type": "markdown",
      "source": [
        "####2.4.8 Visualzing alltogether"
      ],
      "metadata": {
        "id": "3HfYZrwDDHgy"
      }
    },
    {
      "cell_type": "code",
      "source": [
        "fig, axes = plt.subplots(nrows=3, ncols=3, figsize=(17,10))\n",
        "cat_feat = ['sex', 'cp', 'fbs', 'restecg', 'exang', 'slope', 'ca', 'thal', 'target']\n",
        "\n",
        "for idx, feature in enumerate(cat_feat):\n",
        "    ax = axes[int(idx/3), idx%3]\n",
        "    if feature != 'target':\n",
        "        sns.countplot(x=feature, hue='target', data=df, ax=ax, palette='rocket')"
      ],
      "metadata": {
        "colab": {
          "base_uri": "https://localhost:8080/",
          "height": 606
        },
        "id": "Fya1ZdRM_w4u",
        "outputId": "589cc66a-16b3-4e0d-c393-e9ac4b148676"
      },
      "execution_count": 31,
      "outputs": [
        {
          "output_type": "display_data",
          "data": {
            "text/plain": [
              "<Figure size 1224x720 with 9 Axes>"
            ],
            "image/png": "[encoded data removed]"
          },
          "metadata": {
            "needs_background": "light"
          }
        }
      ]
    },
    {
      "cell_type": "markdown",
      "source": [
        "##3. Tech Stack"
      ],
      "metadata": {
        "id": "6oFSQVnxDND0"
      }
    },
    {
      "cell_type": "markdown",
      "source": [
        "```\n",
        "Libraries used: \n",
        "1. Pandas and Numpy for Data Manipulation\n",
        "2. Matplotlib and seaborn for Visualisation\n",
        "3. pandas_profiling for gnerating the profile report\n",
        "4. SKLearn for model building process\n",
        "5. XGBoost for boosting the model\n",
        "```"
      ],
      "metadata": {
        "id": "osYbqjhkB5_A"
      }
    },
    {
      "cell_type": "markdown",
      "source": [
        "#Phase- 2 Model Building"
      ],
      "metadata": {
        "id": "z_wPgkeCCqmo"
      }
    },
    {
      "cell_type": "markdown",
      "source": [
        "##1. Processing for Model Building"
      ],
      "metadata": {
        "id": "5zIpqqfLES5s"
      }
    },
    {
      "cell_type": "markdown",
      "source": [
        "###1.1 Importing needed libraries for Model Building"
      ],
      "metadata": {
        "id": "6e6Oq640EI0z"
      }
    },
    {
      "cell_type": "code",
      "source": [
        "# data preprocessing\n",
        "from sklearn.preprocessing import StandardScaler\n",
        "# data splitting\n",
        "from sklearn.model_selection import train_test_split"
      ],
      "metadata": {
        "id": "nX2QDI7oUurD"
      },
      "execution_count": 32,
      "outputs": []
    },
    {
      "cell_type": "code",
      "source": [
        "# data modeling\n",
        "from sklearn.metrics import confusion_matrix,accuracy_score,roc_curve,classification_report\n",
        "from sklearn.metrics import f1_score\n",
        "from sklearn.linear_model import LogisticRegression\n",
        "from sklearn.naive_bayes import GaussianNB\n",
        "from xgboost import XGBClassifier\n",
        "from sklearn.ensemble import RandomForestClassifier\n",
        "from sklearn.tree import DecisionTreeClassifier\n",
        "from sklearn.neighbors import KNeighborsClassifier\n",
        "from sklearn.naive_bayes import GaussianNB\n",
        "from sklearn.svm import SVC"
      ],
      "metadata": {
        "id": "NCdl9Zf3wH0w"
      },
      "execution_count": 33,
      "outputs": []
    },
    {
      "cell_type": "markdown",
      "source": [
        "###1.2 Splitting into training and testing datasets"
      ],
      "metadata": {
        "id": "hP3iVicVEMeR"
      }
    },
    {
      "cell_type": "code",
      "source": [
        "y = df[\"target\"]\n",
        "X = df.drop('target',axis=1)\n",
        "\n",
        "X_train, X_test, y_train, y_test = train_test_split(X, y, test_size=0.20, random_state = 0)"
      ],
      "metadata": {
        "id": "U0W_vuKfwQgu"
      },
      "execution_count": 34,
      "outputs": []
    },
    {
      "cell_type": "markdown",
      "source": [
        "###1.3 Scaling the independent variables using standard scaler"
      ],
      "metadata": {
        "id": "X-IlzCrzEhdf"
      }
    },
    {
      "cell_type": "code",
      "source": [
        "scaler = StandardScaler()\n",
        "X_train = scaler.fit_transform(X_train)\n",
        "X_test = scaler.transform(X_test)"
      ],
      "metadata": {
        "id": "gkFjFpyQEfR3"
      },
      "execution_count": 35,
      "outputs": []
    },
    {
      "cell_type": "markdown",
      "source": [
        "###2. Making the individual Models for the ensemble model selection"
      ],
      "metadata": {
        "id": "8VpG5iWZEpRc"
      }
    },
    {
      "cell_type": "markdown",
      "source": [
        "####2.1 Logistic Regression"
      ],
      "metadata": {
        "id": "6SIXMIYkG_FA"
      }
    },
    {
      "cell_type": "code",
      "source": [
        "lr = LogisticRegression()\n",
        "model = lr.fit(X_train, y_train)\n",
        "lr_predict = lr.predict(X_test)\n",
        "\n",
        "lr_conf_matrix = confusion_matrix(y_test, lr_predict)\n",
        "lr_acc_score = accuracy_score(y_test, lr_predict)\n",
        "\n",
        "print(\"Confusion matrix\")\n",
        "print(lr_conf_matrix)\n",
        "print(\"\\n\")\n",
        "\n",
        "print(\"Accuracy of Logistic Regression:\",lr_acc_score*100)\n",
        "print(\"Classification Report: \")\n",
        "print(classification_report(y_test,lr_predict))"
      ],
      "metadata": {
        "colab": {
          "base_uri": "https://localhost:8080/"
        },
        "id": "lCfR_oRsxM2_",
        "outputId": "9762436e-75a9-42ab-8fd3-f6f6eb7154dc"
      },
      "execution_count": 36,
      "outputs": [
        {
          "output_type": "stream",
          "name": "stdout",
          "text": [
            "Confusion matrix\n",
            "[[74 14]\n",
            " [ 9 82]]\n",
            "\n",
            "\n",
            "Accuracy of Logistic Regression: 87.15083798882681\n",
            "Classification Report: \n",
            "              precision    recall  f1-score   support\n",
            "\n",
            "           0       0.89      0.84      0.87        88\n",
            "           1       0.85      0.90      0.88        91\n",
            "\n",
            "    accuracy                           0.87       179\n",
            "   macro avg       0.87      0.87      0.87       179\n",
            "weighted avg       0.87      0.87      0.87       179\n",
            "\n"
          ]
        }
      ]
    },
    {
      "cell_type": "markdown",
      "source": [
        "####2.2 Naive Bayes"
      ],
      "metadata": {
        "id": "pYGPpR9RHVLN"
      }
    },
    {
      "cell_type": "code",
      "source": [
        "nb = GaussianNB()\n",
        "nb.fit(X_train,y_train)\n",
        "nbpred = nb.predict(X_test)\n",
        "\n",
        "nb_conf_matrix = confusion_matrix(y_test, nbpred)\n",
        "nb_acc_score = accuracy_score(y_test, nbpred)\n",
        "\n",
        "print(\"Confusion matrix\")\n",
        "print(nb_conf_matrix)\n",
        "print(\"\\n\")\n",
        "\n",
        "print(\"Accuracy of Naive Bayes model:\",nb_acc_score*100)\n",
        "print(\"Classification Report: \")\n",
        "print(classification_report(y_test,nbpred))"
      ],
      "metadata": {
        "colab": {
          "base_uri": "https://localhost:8080/"
        },
        "id": "pFzPTFkAxjZq",
        "outputId": "ff6cab11-2a68-4108-ebc5-3ec2d16423bf"
      },
      "execution_count": 37,
      "outputs": [
        {
          "output_type": "stream",
          "name": "stdout",
          "text": [
            "Confusion matrix\n",
            "[[75 13]\n",
            " [15 76]]\n",
            "\n",
            "\n",
            "Accuracy of Naive Bayes model: 84.35754189944134\n",
            "Classification Report: \n",
            "              precision    recall  f1-score   support\n",
            "\n",
            "           0       0.83      0.85      0.84        88\n",
            "           1       0.85      0.84      0.84        91\n",
            "\n",
            "    accuracy                           0.84       179\n",
            "   macro avg       0.84      0.84      0.84       179\n",
            "weighted avg       0.84      0.84      0.84       179\n",
            "\n"
          ]
        }
      ]
    },
    {
      "cell_type": "markdown",
      "source": [
        "####2.3 Random Forest Classfier"
      ],
      "metadata": {
        "id": "X82pBZn5HlzC"
      }
    },
    {
      "cell_type": "code",
      "source": [
        "rf = RandomForestClassifier(n_estimators=20, random_state=2,max_depth=5)\n",
        "rf.fit(X_train,y_train)\n",
        "rf_predicted = rf.predict(X_test)\n",
        "\n",
        "rf_conf_matrix = confusion_matrix(y_test, rf_predicted)\n",
        "rf_acc_score = accuracy_score(y_test, rf_predicted)\n",
        "\n",
        "print(\"Confusion matrix\")\n",
        "print(rf_conf_matrix)\n",
        "print(\"\\n\")\n",
        "\n",
        "print(\"Accuracy of Random Forest:\",rf_acc_score*100)\n",
        "print(\"Classification Report: \")\n",
        "print(classification_report(y_test,rf_predicted))"
      ],
      "metadata": {
        "colab": {
          "base_uri": "https://localhost:8080/"
        },
        "id": "J_HLCziwxpqV",
        "outputId": "afadff1c-2683-4cc4-e793-826cc6f40a2c"
      },
      "execution_count": 38,
      "outputs": [
        {
          "output_type": "stream",
          "name": "stdout",
          "text": [
            "Confusion matrix\n",
            "[[83  5]\n",
            " [ 6 85]]\n",
            "\n",
            "\n",
            "Accuracy of Random Forest: 93.85474860335195\n",
            "Classification Report: \n",
            "              precision    recall  f1-score   support\n",
            "\n",
            "           0       0.93      0.94      0.94        88\n",
            "           1       0.94      0.93      0.94        91\n",
            "\n",
            "    accuracy                           0.94       179\n",
            "   macro avg       0.94      0.94      0.94       179\n",
            "weighted avg       0.94      0.94      0.94       179\n",
            "\n"
          ]
        }
      ]
    },
    {
      "cell_type": "markdown",
      "source": [
        "####2.4 Extreme Gradient Boost"
      ],
      "metadata": {
        "id": "-WirohK1IZSJ"
      }
    },
    {
      "cell_type": "code",
      "source": [
        "xgb = XGBClassifier(learning_rate=0.01, n_estimators=25, max_depth=15,gamma=0.6, subsample=0.52,colsample_bytree=0.6,seed=27, \n",
        "                    reg_lambda=2, colsample_bylevel=0.6, colsample_bynode=0.5)\n",
        "xgb.fit(X_train, y_train)\n",
        "xgb_predicted = xgb.predict(X_test)\n",
        "\n",
        "xgb_conf_matrix = confusion_matrix(y_test, xgb_predicted)\n",
        "xgb_acc_score = accuracy_score(y_test, xgb_predicted)\n",
        "\n",
        "print(\"Confusion matrix\")\n",
        "print(xgb_conf_matrix)\n",
        "print(\"\\n\")\n",
        "\n",
        "print(\"Accuracy of Extreme Gradient Boost:\",xgb_acc_score*100)\n",
        "print(\"Classification Report: \")\n",
        "print(classification_report(y_test,xgb_predicted))"
      ],
      "metadata": {
        "colab": {
          "base_uri": "https://localhost:8080/"
        },
        "id": "JVBKAJZzxsd7",
        "outputId": "e1e628d9-5f19-4840-98db-40d4b9c650b7"
      },
      "execution_count": 39,
      "outputs": [
        {
          "output_type": "stream",
          "name": "stdout",
          "text": [
            "Confusion matrix\n",
            "[[78 10]\n",
            " [ 9 82]]\n",
            "\n",
            "\n",
            "Accuracy of Extreme Gradient Boost: 89.3854748603352\n",
            "Classification Report: \n",
            "              precision    recall  f1-score   support\n",
            "\n",
            "           0       0.90      0.89      0.89        88\n",
            "           1       0.89      0.90      0.90        91\n",
            "\n",
            "    accuracy                           0.89       179\n",
            "   macro avg       0.89      0.89      0.89       179\n",
            "weighted avg       0.89      0.89      0.89       179\n",
            "\n"
          ]
        }
      ]
    },
    {
      "cell_type": "markdown",
      "source": [
        "####2.5 K-NeighborsClassifier"
      ],
      "metadata": {
        "id": "uevSumt-IezL"
      }
    },
    {
      "cell_type": "code",
      "source": [
        "knn = KNeighborsClassifier(n_neighbors=10)\n",
        "knn.fit(X_train, y_train)\n",
        "knn_predicted = knn.predict(X_test)\n",
        "\n",
        "knn_conf_matrix = confusion_matrix(y_test, knn_predicted)\n",
        "knn_acc_score = accuracy_score(y_test, knn_predicted)\n",
        "\n",
        "print(\"Confusion matrix\")\n",
        "print(knn_conf_matrix)\n",
        "print(\"\\n\")\n",
        "\n",
        "print(\"Accuracy of K-NeighborsClassifier:\",knn_acc_score*100)\n",
        "print(\"Classification Report: \")\n",
        "print(classification_report(y_test,knn_predicted))"
      ],
      "metadata": {
        "colab": {
          "base_uri": "https://localhost:8080/"
        },
        "id": "Sw2ysnWQxxF-",
        "outputId": "6eece7d2-56ac-4682-e23b-8bcb57ee9375"
      },
      "execution_count": 40,
      "outputs": [
        {
          "output_type": "stream",
          "name": "stdout",
          "text": [
            "Confusion matrix\n",
            "[[72 16]\n",
            " [12 79]]\n",
            "\n",
            "\n",
            "Accuracy of K-NeighborsClassifier: 84.35754189944134\n",
            "Classification Report: \n",
            "              precision    recall  f1-score   support\n",
            "\n",
            "           0       0.86      0.82      0.84        88\n",
            "           1       0.83      0.87      0.85        91\n",
            "\n",
            "    accuracy                           0.84       179\n",
            "   macro avg       0.84      0.84      0.84       179\n",
            "weighted avg       0.84      0.84      0.84       179\n",
            "\n"
          ]
        }
      ]
    },
    {
      "cell_type": "markdown",
      "source": [
        "####2.6 DecisionTreeClassifier"
      ],
      "metadata": {
        "id": "yYmjV_jwIiJY"
      }
    },
    {
      "cell_type": "code",
      "source": [
        "dt = DecisionTreeClassifier(criterion = 'entropy',random_state=0,max_depth = 6)\n",
        "dt.fit(X_train, y_train)\n",
        "dt_predicted = dt.predict(X_test)\n",
        "\n",
        "dt_conf_matrix = confusion_matrix(y_test, dt_predicted)\n",
        "dt_acc_score = accuracy_score(y_test, dt_predicted)\n",
        "\n",
        "print(\"Confusion matrix\")\n",
        "print(dt_conf_matrix)\n",
        "print(\"\\n\")\n",
        "\n",
        "print(\"Accuracy of DecisionTreeClassifier:\",dt_acc_score*100)\n",
        "print(\"Classification Report: \")\n",
        "print(classification_report(y_test,dt_predicted))"
      ],
      "metadata": {
        "colab": {
          "base_uri": "https://localhost:8080/"
        },
        "id": "7sWIo_2Yx1zO",
        "outputId": "c2307f29-e05b-400f-d759-d1994c256570"
      },
      "execution_count": 41,
      "outputs": [
        {
          "output_type": "stream",
          "name": "stdout",
          "text": [
            "Confusion matrix\n",
            "[[77 11]\n",
            " [ 5 86]]\n",
            "\n",
            "\n",
            "Accuracy of DecisionTreeClassifier: 91.06145251396647\n",
            "Classification Report: \n",
            "              precision    recall  f1-score   support\n",
            "\n",
            "           0       0.94      0.88      0.91        88\n",
            "           1       0.89      0.95      0.91        91\n",
            "\n",
            "    accuracy                           0.91       179\n",
            "   macro avg       0.91      0.91      0.91       179\n",
            "weighted avg       0.91      0.91      0.91       179\n",
            "\n"
          ]
        }
      ]
    },
    {
      "cell_type": "markdown",
      "source": [
        "####2.7 Support Vector Classifier"
      ],
      "metadata": {
        "id": "aTOtfKzRInDc"
      }
    },
    {
      "cell_type": "code",
      "source": [
        "svc =  SVC(kernel='rbf', C=2)\n",
        "svc.fit(X_train, y_train)\n",
        "svc_predicted = svc.predict(X_test)\n",
        "\n",
        "svc_conf_matrix = confusion_matrix(y_test, svc_predicted)\n",
        "svc_acc_score = accuracy_score(y_test, svc_predicted)\n",
        "\n",
        "print(\"confusion matrix\")\n",
        "print(svc_conf_matrix)\n",
        "print(\"\\n\")\n",
        "\n",
        "print(\"Accuracy of Support Vector Classifier:\",svc_acc_score*100)\n",
        "print(\"Classification Report: \")\n",
        "print(classification_report(y_test,svc_predicted))"
      ],
      "metadata": {
        "colab": {
          "base_uri": "https://localhost:8080/"
        },
        "id": "9_MRel4Bx477",
        "outputId": "911d5037-170f-499d-f9c7-0642a27eeafb"
      },
      "execution_count": 42,
      "outputs": [
        {
          "output_type": "stream",
          "name": "stdout",
          "text": [
            "confusion matrix\n",
            "[[85  3]\n",
            " [ 4 87]]\n",
            "\n",
            "\n",
            "Accuracy of Support Vector Classifier: 96.08938547486034\n",
            "Classification Report: \n",
            "              precision    recall  f1-score   support\n",
            "\n",
            "           0       0.96      0.97      0.96        88\n",
            "           1       0.97      0.96      0.96        91\n",
            "\n",
            "    accuracy                           0.96       179\n",
            "   macro avg       0.96      0.96      0.96       179\n",
            "weighted avg       0.96      0.96      0.96       179\n",
            "\n"
          ]
        }
      ]
    },
    {
      "cell_type": "markdown",
      "source": [
        "###3. Plotting feature Importance"
      ],
      "metadata": {
        "id": "lk16963hJCoL"
      }
    },
    {
      "cell_type": "code",
      "source": [
        "imp_feature = pd.DataFrame({'Feature': ['age', 'sex', 'cp', 'trestbps', 'chol', 'fbs', 'restecg', 'thalach',\n",
        "       'exang', 'oldpeak', 'slope', 'ca', 'thal'], 'Importance': xgb.feature_importances_})\n",
        "\n",
        "plt.figure(figsize=(14,4))\n",
        "plt.title(\"Feature Importance\")\n",
        "ax = sns.barplot(x= imp_feature['Feature'], y= imp_feature['Importance'], data=imp_feature)"
      ],
      "metadata": {
        "colab": {
          "base_uri": "https://localhost:8080/",
          "height": 295
        },
        "id": "7yLIa9Qux7ya",
        "outputId": "54fe610a-afed-4163-c0ff-56363cee79f4"
      },
      "execution_count": 43,
      "outputs": [
        {
          "output_type": "display_data",
          "data": {
            "text/plain": [
              "<Figure size 1008x288 with 1 Axes>"
            ],
            "image/png": "[encoded data removed]"
          },
          "metadata": {
            "needs_background": "light"
          }
        }
      ]
    },
    {
      "cell_type": "markdown",
      "source": [
        "###4. Plotting the ROC Curve for all the models"
      ],
      "metadata": {
        "id": "4UlbtQuAM8hB"
      }
    },
    {
      "cell_type": "code",
      "source": [
        "#Alloting FPR and TPR values for all the models\n",
        "lr_false_positive_rate,lr_true_positive_rate,lr_threshold = roc_curve(y_test,lr_predict)\n",
        "nb_false_positive_rate,nb_true_positive_rate,nb_threshold = roc_curve(y_test,nbpred)\n",
        "rf_false_positive_rate,rf_true_positive_rate,rf_threshold = roc_curve(y_test,rf_predicted)                                                             \n",
        "xgb_false_positive_rate,xgb_true_positive_rate,xgb_threshold = roc_curve(y_test,xgb_predicted)\n",
        "knn_false_positive_rate,knn_true_positive_rate,knn_threshold = roc_curve(y_test,knn_predicted)\n",
        "dt_false_positive_rate,dt_true_positive_rate,dt_threshold = roc_curve(y_test,dt_predicted)\n",
        "svc_false_positive_rate,svc_true_positive_rate,svc_threshold = roc_curve(y_test,svc_predicted)"
      ],
      "metadata": {
        "id": "6uB208BjyBDI"
      },
      "execution_count": 44,
      "outputs": []
    },
    {
      "cell_type": "code",
      "source": [
        "sns.set_style('darkgrid')\n",
        "plt.figure(figsize=(12,6))\n",
        "plt.title('Reciver Operating Characterstic Curve')\n",
        "\n",
        "plt.plot(lr_false_positive_rate,lr_true_positive_rate,label='Logistic Regression')\n",
        "plt.plot(nb_false_positive_rate,nb_true_positive_rate,label='Naive Bayes')\n",
        "plt.plot(rf_false_positive_rate,rf_true_positive_rate,label='Random Forest')\n",
        "plt.plot(xgb_false_positive_rate,xgb_true_positive_rate,label='Extreme Gradient Boost')\n",
        "plt.plot(knn_false_positive_rate,knn_true_positive_rate,label='K-Nearest Neighbor')\n",
        "plt.plot(dt_false_positive_rate,dt_true_positive_rate,label='Desion Tree')\n",
        "plt.plot(svc_false_positive_rate,svc_true_positive_rate,label='Support Vector Classifier')\n",
        "\n",
        "plt.plot([0,1],ls='--')\n",
        "plt.plot([0,0],[1,0],c='.5')\n",
        "plt.plot([1,1],c='.5')\n",
        "\n",
        "plt.ylabel('True positive rate')\n",
        "plt.xlabel('False positive rate')\n",
        "\n",
        "plt.legend()\n",
        "plt.show()"
      ],
      "metadata": {
        "colab": {
          "base_uri": "https://localhost:8080/",
          "height": 404
        },
        "id": "WTWo-eLuz764",
        "outputId": "5511c662-1487-45a7-aa98-46432afc560d"
      },
      "execution_count": 45,
      "outputs": [
        {
          "output_type": "display_data",
          "data": {
            "text/plain": [
              "<Figure size 864x432 with 1 Axes>"
            ],
            "image/png": "[encoded data removed]"
          },
          "metadata": {}
        }
      ]
    },
    {
      "cell_type": "markdown",
      "source": [
        "###5. Model evaluation"
      ],
      "metadata": {
        "id": "g7Ywu2cRNz7S"
      }
    },
    {
      "cell_type": "code",
      "source": [
        "model_eval = pd.DataFrame({'Model': ['Logistic Regression','Naive Bayes','Random Forest','Extreme Gradient Boost',\n",
        "                                    'K-Nearest Neighbour','Decision Tree','Support Vector Machine'], \n",
        "                          'Accuracy': [lr_acc_score*100, nb_acc_score*100,rf_acc_score*100,xgb_acc_score*100,knn_acc_score*100,\n",
        "                                 dt_acc_score*100,svc_acc_score*100]})\n",
        "model_eval"
      ],
      "metadata": {
        "colab": {
          "base_uri": "https://localhost:8080/",
          "height": 269
        },
        "id": "nAv3naWzz_E3",
        "outputId": "dce225fd-e5b7-4346-f790-49473c8adde6"
      },
      "execution_count": 46,
      "outputs": [
        {
          "output_type": "execute_result",
          "data": {
            "text/plain": [
              "                    Model   Accuracy\n",
              "0     Logistic Regression  87.150838\n",
              "1             Naive Bayes  84.357542\n",
              "2           Random Forest  93.854749\n",
              "3  Extreme Gradient Boost  89.385475\n",
              "4     K-Nearest Neighbour  84.357542\n",
              "5           Decision Tree  91.061453\n",
              "6  Support Vector Machine  96.089385"
            ],
            "text/html": [
              "\n",
              "  <div id=\"df-d5258245-cd8d-42e5-9764-5e56caf4dab0\">\n",
              "    <div class=\"colab-df-container\">\n",
              "      <div>\n",
              "<style scoped>\n",
              "    .dataframe tbody tr th:only-of-type {\n",
              "        vertical-align: middle;\n",
              "    }\n",
              "\n",
              "    .dataframe tbody tr th {\n",
              "        vertical-align: top;\n",
              "    }\n",
              "\n",
              "    .dataframe thead th {\n",
              "        text-align: right;\n",
              "    }\n",
              "</style>\n",
              "<table border=\"1\" class=\"dataframe\">\n",
              "  <thead>\n",
              "    <tr style=\"text-align: right;\">\n",
              "      <th></th>\n",
              "      <th>Model</th>\n",
              "      <th>Accuracy</th>\n",
              "    </tr>\n",
              "  </thead>\n",
              "  <tbody>\n",
              "    <tr>\n",
              "      <th>0</th>\n",
              "      <td>Logistic Regression</td>\n",
              "      <td>87.150838</td>\n",
              "    </tr>\n",
              "    <tr>\n",
              "      <th>1</th>\n",
              "      <td>Naive Bayes</td>\n",
              "      <td>84.357542</td>\n",
              "    </tr>\n",
              "    <tr>\n",
              "      <th>2</th>\n",
              "      <td>Random Forest</td>\n",
              "      <td>93.854749</td>\n",
              "    </tr>\n",
              "    <tr>\n",
              "      <th>3</th>\n",
              "      <td>Extreme Gradient Boost</td>\n",
              "      <td>89.385475</td>\n",
              "    </tr>\n",
              "    <tr>\n",
              "      <th>4</th>\n",
              "      <td>K-Nearest Neighbour</td>\n",
              "      <td>84.357542</td>\n",
              "    </tr>\n",
              "    <tr>\n",
              "      <th>5</th>\n",
              "      <td>Decision Tree</td>\n",
              "      <td>91.061453</td>\n",
              "    </tr>\n",
              "    <tr>\n",
              "      <th>6</th>\n",
              "      <td>Support Vector Machine</td>\n",
              "      <td>96.089385</td>\n",
              "    </tr>\n",
              "  </tbody>\n",
              "</table>\n",
              "</div>\n",
              "      <button class=\"colab-df-convert\" onclick=\"convertToInteractive('df-d5258245-cd8d-42e5-9764-5e56caf4dab0')\"\n",
              "              title=\"Convert this dataframe to an interactive table.\"\n",
              "              style=\"display:none;\">\n",
              "        \n",
              "  <svg xmlns=\"http://www.w3.org/2000/svg\" height=\"24px\"viewBox=\"0 0 24 24\"\n",
              "       width=\"24px\">\n",
              "    <path d=\"M0 0h24v24H0V0z\" fill=\"none\"/>\n",
              "    <path d=\"M18.56 5.44l.94 2.06.94-2.06 2.06-.94-2.06-.94-.94-2.06-.94 2.06-2.06.94zm-11 1L8.5 8.5l.94-2.06 2.06-.94-2.06-.94L8.5 2.5l-.94 2.06-2.06.94zm10 10l.94 2.06.94-2.06 2.06-.94-2.06-.94-.94-2.06-.94 2.06-2.06.94z\"/><path d=\"M17.41 7.96l-1.37-1.37c-.4-.4-.92-.59-1.43-.59-.52 0-1.04.2-1.43.59L10.3 9.45l-7.72 7.72c-.78.78-.78 2.05 0 2.83L4 21.41c.39.39.9.59 1.41.59.51 0 1.02-.2 1.41-.59l7.78-7.78 2.81-2.81c.8-.78.8-2.07 0-2.86zM5.41 20L4 18.59l7.72-7.72 1.47 1.35L5.41 20z\"/>\n",
              "  </svg>\n",
              "      </button>\n",
              "      \n",
              "  <style>\n",
              "    .colab-df-container {\n",
              "      display:flex;\n",
              "      flex-wrap:wrap;\n",
              "      gap: 12px;\n",
              "    }\n",
              "\n",
              "    .colab-df-convert {\n",
              "      background-color: #E8F0FE;\n",
              "      border: none;\n",
              "      border-radius: 50%;\n",
              "      cursor: pointer;\n",
              "      display: none;\n",
              "      fill: #1967D2;\n",
              "      height: 32px;\n",
              "      padding: 0 0 0 0;\n",
              "      width: 32px;\n",
              "    }\n",
              "\n",
              "    .colab-df-convert:hover {\n",
              "      background-color: #E2EBFA;\n",
              "      box-shadow: 0px 1px 2px rgba(60, 64, 67, 0.3), 0px 1px 3px 1px rgba(60, 64, 67, 0.15);\n",
              "      fill: #174EA6;\n",
              "    }\n",
              "\n",
              "    [theme=dark] .colab-df-convert {\n",
              "      background-color: #3B4455;\n",
              "      fill: #D2E3FC;\n",
              "    }\n",
              "\n",
              "    [theme=dark] .colab-df-convert:hover {\n",
              "      background-color: #434B5C;\n",
              "      box-shadow: 0px 1px 3px 1px rgba(0, 0, 0, 0.15);\n",
              "      filter: drop-shadow(0px 1px 2px rgba(0, 0, 0, 0.3));\n",
              "      fill: #FFFFFF;\n",
              "    }\n",
              "  </style>\n",
              "\n",
              "      <script>\n",
              "        const buttonEl =\n",
              "          document.querySelector('#df-d5258245-cd8d-42e5-9764-5e56caf4dab0 button.colab-df-convert');\n",
              "        buttonEl.style.display =\n",
              "          google.colab.kernel.accessAllowed ? 'block' : 'none';\n",
              "\n",
              "        async function convertToInteractive(key) {\n",
              "          const element = document.querySelector('#df-d5258245-cd8d-42e5-9764-5e56caf4dab0');\n",
              "          const dataTable =\n",
              "            await google.colab.kernel.invokeFunction('convertToInteractive',\n",
              "                                                     [key], {});\n",
              "          if (!dataTable) return;\n",
              "\n",
              "          const docLinkHtml = 'Like what you see? Visit the ' +\n",
              "            '<a target=\"_blank\" href=https://colab.research.google.com/notebooks/data_table.ipynb>data table notebook</a>'\n",
              "            + ' to learn more about interactive tables.';\n",
              "          element.innerHTML = '';\n",
              "          dataTable['output_type'] = 'display_data';\n",
              "          await google.colab.output.renderOutput(dataTable, element);\n",
              "          const docLink = document.createElement('div');\n",
              "          docLink.innerHTML = docLinkHtml;\n",
              "          element.appendChild(docLink);\n",
              "        }\n",
              "      </script>\n",
              "    </div>\n",
              "  </div>\n",
              "  "
            ]
          },
          "metadata": {},
          "execution_count": 46
        }
      ]
    },
    {
      "cell_type": "code",
      "source": [
        "#Plotting the accuracy\n",
        "plt.figure(figsize=(15,5))\n",
        "ax = sns.barplot(x = model_eval['Model'], y = model_eval['Accuracy'], data = model_eval, palette = 'Spectral_r')"
      ],
      "metadata": {
        "colab": {
          "base_uri": "https://localhost:8080/",
          "height": 335
        },
        "id": "0VqyMSO40DtE",
        "outputId": "46ade929-d69d-4499-e78a-65ee329a687f"
      },
      "execution_count": 47,
      "outputs": [
        {
          "output_type": "display_data",
          "data": {
            "text/plain": [
              "<Figure size 1080x360 with 1 Axes>"
            ],
            "image/png": "[encoded data removed]"
          },
          "metadata": {}
        }
      ]
    },
    {
      "cell_type": "markdown",
      "source": [
        "###6. Creating the Stacking ensemble"
      ],
      "metadata": {
        "id": "TyVwULCoRQUo"
      }
    },
    {
      "cell_type": "code",
      "source": [
        "#Converting y_train from series type to numpy array \n",
        "y_train = y_train.to_numpy()"
      ],
      "metadata": {
        "id": "fiWp5VZEBNnD"
      },
      "execution_count": 48,
      "outputs": []
    },
    {
      "cell_type": "code",
      "source": [
        "!pip install --upgrade scikit-learn==0.22"
      ],
      "metadata": {
        "colab": {
          "base_uri": "https://localhost:8080/",
          "height": 401
        },
        "id": "atkzImV2QpSl",
        "outputId": "cc8a13e2-423d-49c1-e5ee-6c3a81de6301"
      },
      "execution_count": 49,
      "outputs": [
        {
          "output_type": "stream",
          "name": "stdout",
          "text": [
            "Looking in indexes: https://pypi.org/simple, https://us-python.pkg.dev/colab-wheels/public/simple/\n",
            "Collecting scikit-learn==0.22\n",
            "  Downloading scikit_learn-0.22-cp37-cp37m-manylinux1_x86_64.whl (7.0 MB)\n",
            "\u001b[K     |████████████████████████████████| 7.0 MB 3.9 MB/s \n",
            "\u001b[?25hRequirement already satisfied: joblib>=0.11 in /usr/local/lib/python3.7/dist-packages (from scikit-learn==0.22) (1.1.0)\n",
            "Requirement already satisfied: scipy>=0.17.0 in /usr/local/lib/python3.7/dist-packages (from scikit-learn==0.22) (1.4.1)\n",
            "Requirement already satisfied: numpy>=1.11.0 in /usr/local/lib/python3.7/dist-packages (from scikit-learn==0.22) (1.21.6)\n",
            "Installing collected packages: scikit-learn\n",
            "  Attempting uninstall: scikit-learn\n",
            "    Found existing installation: scikit-learn 1.0.2\n",
            "    Uninstalling scikit-learn-1.0.2:\n",
            "      Successfully uninstalled scikit-learn-1.0.2\n",
            "\u001b[31mERROR: pip's dependency resolver does not currently take into account all the packages that are installed. This behaviour is the source of the following dependency conflicts.\n",
            "yellowbrick 1.4 requires scikit-learn>=1.0.0, but you have scikit-learn 0.22 which is incompatible.\n",
            "imbalanced-learn 0.8.1 requires scikit-learn>=0.24, but you have scikit-learn 0.22 which is incompatible.\u001b[0m\n",
            "Successfully installed scikit-learn-0.22\n"
          ]
        },
        {
          "output_type": "display_data",
          "data": {
            "application/vnd.colab-display-data+json": {
              "pip_warning": {
                "packages": [
                  "sklearn"
                ]
              }
            }
          },
          "metadata": {}
        }
      ]
    },
    {
      "cell_type": "code",
      "source": [
        "from mlxtend.classifier import StackingCVClassifier\n",
        "\n",
        "# (dt,rf,svc) have been chosen as the models with the highest accuracy\n",
        "#the meta-classifier is the model which makes the final prediction\n",
        "scv=StackingCVClassifier(classifiers=[dt,rf,svc],meta_classifier= svc)\n",
        "scv.fit(X_train,y_train)\n",
        "scv_predicted = scv.predict(X_test)\n",
        "\n",
        "scv_conf_matrix = confusion_matrix(y_test, scv_predicted)\n",
        "scv_acc_score = accuracy_score(y_test, scv_predicted)\n",
        "\n",
        "print(\"Confusion matrix\")\n",
        "print(scv_conf_matrix)\n",
        "print(\"\\n\")\n",
        "\n",
        "print(\"Accuracy of StackingCVClassifier:\",scv_acc_score*100)\n",
        "print(\"Classification Report\")\n",
        "print(classification_report(y_test,scv_predicted))"
      ],
      "metadata": {
        "colab": {
          "base_uri": "https://localhost:8080/"
        },
        "id": "iVANvTqG0UBQ",
        "outputId": "48cf1383-c42c-435c-dc71-326023c828a6"
      },
      "execution_count": 50,
      "outputs": [
        {
          "output_type": "stream",
          "name": "stderr",
          "text": [
            "/usr/local/lib/python3.7/dist-packages/sklearn/externals/six.py:31: FutureWarning: The module is deprecated in version 0.21 and will be removed in version 0.23 since we've dropped support for Python 2.7. Please rely on the official version of six (https://pypi.org/project/six/).\n",
            "  \"(https://pypi.org/project/six/).\", FutureWarning)\n"
          ]
        },
        {
          "output_type": "stream",
          "name": "stdout",
          "text": [
            "Confusion matrix\n",
            "[[83  5]\n",
            " [ 9 82]]\n",
            "\n",
            "\n",
            "Accuracy of StackingCVClassifier: 92.17877094972067\n",
            "Classification Report\n",
            "              precision    recall  f1-score   support\n",
            "\n",
            "           0       0.90      0.94      0.92        88\n",
            "           1       0.94      0.90      0.92        91\n",
            "\n",
            "    accuracy                           0.92       179\n",
            "   macro avg       0.92      0.92      0.92       179\n",
            "weighted avg       0.92      0.92      0.92       179\n",
            "\n"
          ]
        }
      ]
    },
    {
      "cell_type": "markdown",
      "source": [
        "##Conclusion"
      ],
      "metadata": {
        "id": "JsVSGpOqBqcr"
      }
    },
    {
      "cell_type": "markdown",
      "source": [
        "~~~\n",
        "1) Support Vector Machine gives the best Accuracy as compared to other models.\n",
        "\n",
        "2) Exercise induced angina and Chest pain are the major symptoms of heart attack.\n",
        "\n",
        "3) Ensembling technique increase the accuracy of the model.\n",
        "~~~"
      ],
      "metadata": {
        "id": "N3elBqnDQNMY"
      }
    },
    {
      "cell_type": "markdown",
      "source": [
        "###Saving the file"
      ],
      "metadata": {
        "id": "kHu9RBgMl6RR"
      }
    },
    {
      "cell_type": "code",
      "source": [
        "import pickle"
      ],
      "metadata": {
        "id": "Vbus5iwgl3o5"
      },
      "execution_count": 51,
      "outputs": []
    },
    {
      "cell_type": "code",
      "source": [
        "pickle_out = open(\"Classifier.pkl\", \"wb\")\n",
        "pickle.dump(svc, pickle_out)\n",
        "pickle_out.close()"
      ],
      "metadata": {
        "id": "IPxbCIA8l8c0"
      },
      "execution_count": 52,
      "outputs": []
    }
  ]
}